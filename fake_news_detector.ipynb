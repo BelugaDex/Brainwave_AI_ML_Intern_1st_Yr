{
 "cells": [
  {
   "cell_type": "code",
   "execution_count": 2,
   "id": "f65ac353-ae99-4ee8-904c-5f600d7e8fa4",
   "metadata": {},
   "outputs": [],
   "source": [
    "import pandas as pd\n",
    "import numpy as np\n",
    "import seaborn as sns\n",
    "from sklearn.model_selection import train_test_split\n",
    "import matplotlib.pyplot as plt\n",
    "from sklearn.metrics import accuracy_score #is used to evaluate the accuracy of a classification model\n",
    "from sklearn.metrics import classification_report #generates a comprehensive report to evaluate the performance of a classification model. \n",
    "#It provides key metrics such as precision, recall, F1-score, and support for each class\n",
    "\n",
    "import re#re module in Python stands for \"regular expressions\". \n",
    "#It provides support for working with regular expressions, which are powerful tools for pattern matching and text manipulation.\n",
    "\n",
    "import string #string module in Python provides a collection of constants (like strings of ASCII characters) \n",
    "#and useful classes (like Template) that are commonly used in various string operations"
   ]
  },
  {
   "cell_type": "code",
   "execution_count": 3,
   "id": "2e9d3ac8-d21b-4034-aabb-eea2b3fd2111",
   "metadata": {},
   "outputs": [],
   "source": [
    "data_fk= pd.read_csv(\"Fake.csv\")\n",
    "data_tr=pd.read_csv(\"True.csv\")"
   ]
  },
  {
   "cell_type": "code",
   "execution_count": null,
   "id": "f9032a46-adfc-4951-aa94-40d13dbfc4dd",
   "metadata": {},
   "outputs": [],
   "source": [
    "print(data_fk.head())\n",
    "print('\\n')"
   ]
  },
  {
   "cell_type": "code",
   "execution_count": null,
   "id": "9dc43e46-747b-4644-9897-f6eb27bad3ea",
   "metadata": {},
   "outputs": [],
   "source": [
    "print(data_tr.head())\n",
    "print('\\n')"
   ]
  },
  {
   "cell_type": "code",
   "execution_count": null,
   "id": "192edda6-eb91-48c1-960e-02d98fc0bff8",
   "metadata": {},
   "outputs": [],
   "source": [
    "data_fk['class']= 0\n",
    "data_tr['class']= 1"
   ]
  },
  {
   "cell_type": "code",
   "execution_count": null,
   "id": "75eb6be1-b7cc-404f-a16c-a6920ed1a2fd",
   "metadata": {},
   "outputs": [],
   "source": [
    "print(data_fk.shape , data_tr.shape)\n",
    "# shape returns dimension of arrays ((rows , columns))\n",
    "print('\\n')"
   ]
  },
  {
   "cell_type": "code",
   "execution_count": null,
   "id": "04672470-6595-41c2-9323-492dac4b32cd",
   "metadata": {},
   "outputs": [],
   "source": [
    "data_fk_manual_testing = data_fk.tail(10)\n",
    "for i in range(23480, 23470, -1):\n",
    "    data_fk.drop(i, axis=0, inplace=True)\n",
    "\n",
    "data_tr_manual_testing = data_tr.tail(10)\n",
    "for i in range(21416, 23406, -1):\n",
    "    data_tr.drop(i, axis=0, inplace=True)\n"
   ]
  },
  {
   "cell_type": "code",
   "execution_count": null,
   "id": "ed8af3aa-5b99-493d-9947-c40d53864efa",
   "metadata": {},
   "outputs": [],
   "source": [
    "print(data_fk.shape,data_tr.shape)\n",
    "print('\\n')"
   ]
  },
  {
   "cell_type": "code",
   "execution_count": null,
   "id": "571b62f7-adaf-4b80-9471-f5e0ce2530e1",
   "metadata": {},
   "outputs": [],
   "source": [
    "data_fk_manual_testing['class'] = 0\n",
    "data_tr_manual_testing['class'] = 1"
   ]
  },
  {
   "cell_type": "code",
   "execution_count": null,
   "id": "f3df4229-2e2b-4f47-8a5f-bf5aa717cc9d",
   "metadata": {},
   "outputs": [],
   "source": [
    "print(data_tr_manual_testing.head())\n",
    "print('\\n')"
   ]
  },
  {
   "cell_type": "code",
   "execution_count": null,
   "id": "564cd16b-3abd-40da-93a7-262b3a35eff3",
   "metadata": {},
   "outputs": [],
   "source": [
    "print(data_fk_manual_testing.head())\n",
    "print('\\n')"
   ]
  },
  {
   "cell_type": "code",
   "execution_count": null,
   "id": "c09c8c96-cdfc-4200-94dc-65edf0ae789a",
   "metadata": {},
   "outputs": [],
   "source": [
    "data_merge = pd.concat([data_fk,data_tr] , axis = 0) #0 for rows\n",
    "print(data_merge.head())\n",
    "print('\\n')"
   ]
  },
  {
   "cell_type": "code",
   "execution_count": null,
   "id": "302ecc0c-6b5e-4498-b2a1-8c006bad105d",
   "metadata": {},
   "outputs": [],
   "source": [
    "print(data_merge.columns)\n",
    "print('\\n')"
   ]
  },
  {
   "cell_type": "code",
   "execution_count": null,
   "id": "0a45b645-045b-4db5-825c-0504cd37bc69",
   "metadata": {},
   "outputs": [],
   "source": [
    "data = data_merge.drop(['title','subject','date'],axis=1) #1 for columns"
   ]
  },
  {
   "cell_type": "code",
   "execution_count": null,
   "id": "99b95825-38ac-441d-939e-1c6170abbee8",
   "metadata": {},
   "outputs": [],
   "source": [
    "print(data.isnull().sum())\n",
    "print('\\n')"
   ]
  },
  {
   "cell_type": "code",
   "execution_count": null,
   "id": "2c6b3540-6108-49a0-8352-b787a47f485c",
   "metadata": {},
   "outputs": [],
   "source": [
    "data = data.sample(frac = 1)\n",
    "#  in pandas DataFrame randomly shuffles (or samples) the rows of the DataFrame data\n",
    "#frac: This parameter specifies the fraction of rows to return in the random sample. When frac=1, \n",
    "#it indicates that all rows should be included in the sample."
   ]
  },
  {
   "cell_type": "code",
   "execution_count": null,
   "id": "b926406d-8cf4-4dde-915f-a308526c2b3a",
   "metadata": {},
   "outputs": [],
   "source": [
    "print(data.head())\n",
    "print('\\n')"
   ]
  },
  {
   "cell_type": "code",
   "execution_count": null,
   "id": "21747c0b-8a7c-4363-bda8-70e6e51905e0",
   "metadata": {},
   "outputs": [],
   "source": [
    "data.reset_index(inplace=True)\n",
    "data.drop(['index'],axis=1,inplace=True)"
   ]
  },
  {
   "cell_type": "code",
   "execution_count": null,
   "id": "5b9ffb54-78ae-460e-a139-d8d859fd16d7",
   "metadata": {},
   "outputs": [],
   "source": [
    "print(data.columns)\n",
    "print('\\n')"
   ]
  },
  {
   "cell_type": "code",
   "execution_count": null,
   "id": "d9a9447b-2783-4d6e-9012-89f8bde20593",
   "metadata": {},
   "outputs": [],
   "source": [
    "print(data.head())\n",
    "print('\\n')"
   ]
  },
  {
   "cell_type": "code",
   "execution_count": null,
   "id": "dee7dd05-6a0c-4abb-aff1-ed475ecc7115",
   "metadata": {},
   "outputs": [],
   "source": [
    "def wordopt(text):\n",
    "    text = text.lower()\n",
    "    text = re.sub('\\[.*?\\]' ,'', text)\n",
    "    text = re.sub(\"\\\\W\",\"\",text)\n",
    "    text = re.sub('https?://\\S+|www.\\.\\S+','',text)\n",
    "    text = re.sub('<.*?>+','',text)\n",
    "    text = re.sub('[%s]' %re.escape(string.punctuation),'',text)\n",
    "    text = re.sub('\\n','',text)\n",
    "    text = re.sub('\\w*\\d\\w*','', text)\n",
    "    return text\n",
    "                 "
   ]
  },
  {
   "cell_type": "code",
   "execution_count": null,
   "id": "dda99c9d-5835-4c5a-a50e-e979d5542131",
   "metadata": {},
   "outputs": [],
   "source": [
    "data['text']=data['text'].apply(wordopt)"
   ]
  },
  {
   "cell_type": "code",
   "execution_count": null,
   "id": "fa068e6f-5949-4fa3-bcd3-4845e96b7f7f",
   "metadata": {},
   "outputs": [],
   "source": [
    "x= data['text']\n",
    "y=data['class']"
   ]
  },
  {
   "cell_type": "code",
   "execution_count": null,
   "id": "a9d6cf43-1d94-4f79-8030-722acfc12d04",
   "metadata": {},
   "outputs": [],
   "source": [
    "x_train, x_test, y_train, y_test = train_test_split(x, y, test_size=0.25)"
   ]
  },
  {
   "cell_type": "code",
   "execution_count": null,
   "id": "da6d4400-3f6b-4a53-82a1-0c1f7e838fd0",
   "metadata": {},
   "outputs": [],
   "source": [
    "from sklearn.feature_extraction.text import TfidfVectorizer\n",
    "vectorization = TfidfVectorizer()\n",
    "xv_train= vectorization.fit_transform(x_train)\n",
    "xv_test= vectorization.transform(x_test)"
   ]
  },
  {
   "cell_type": "code",
   "execution_count": null,
   "id": "74a83ba1-4266-442e-9827-6ee38d022039",
   "metadata": {},
   "outputs": [],
   "source": [
    "from sklearn.linear_model import LogisticRegression\n",
    "lr = LogisticRegression()\n",
    "lr.fit(xv_train , y_train)"
   ]
  },
  {
   "cell_type": "code",
   "execution_count": null,
   "id": "55a03272-9b81-49d2-a0ff-29b8309f581c",
   "metadata": {},
   "outputs": [],
   "source": [
    "pred_lr=lr.predict(xv_test)"
   ]
  },
  {
   "cell_type": "code",
   "execution_count": null,
   "id": "ac85e08b-f89f-4ba0-af3c-aa8374ec1f0f",
   "metadata": {},
   "outputs": [],
   "source": [
    "print(lr.score(xv_test,y_test))\n",
    "print('\\n')"
   ]
  },
  {
   "cell_type": "code",
   "execution_count": null,
   "id": "e8c8bac5-62f0-4e69-8103-cbc4fa293a4b",
   "metadata": {},
   "outputs": [],
   "source": [
    "print(classification_report(y_test , pred_lr))\n",
    "print('\\n')"
   ]
  },
  {
   "cell_type": "code",
   "execution_count": null,
   "id": "0de796e9-a503-43b6-a33c-89f3641d762e",
   "metadata": {},
   "outputs": [],
   "source": [
    "from sklearn.tree  import DecisionTreeClassifier\n",
    "dt= DecisionTreeClassifier()\n",
    "dt.fit(xv_train,y_train)"
   ]
  },
  {
   "cell_type": "code",
   "execution_count": null,
   "id": "46c41915-9687-4196-b9e4-c38c8d0678cd",
   "metadata": {},
   "outputs": [],
   "source": [
    "pred_dt=dt.predict(xv_test)"
   ]
  },
  {
   "cell_type": "code",
   "execution_count": null,
   "id": "0a7797fc-5e05-4381-9f99-026fa29cbd9d",
   "metadata": {},
   "outputs": [],
   "source": [
    "print(dt.score(xv_test,y_test))\n",
    "print('\\n')"
   ]
  },
  {
   "cell_type": "code",
   "execution_count": null,
   "id": "6e6d80aa-abab-4d08-8b3a-449a36946be8",
   "metadata": {},
   "outputs": [],
   "source": [
    "print(classification_report(y_test , pred_dt))\n",
    "print('\\n')"
   ]
  },
  {
   "cell_type": "code",
   "execution_count": null,
   "id": "333bdda4-1cfa-443a-86c8-c864cfd5156f",
   "metadata": {},
   "outputs": [],
   "source": [
    "from sklearn.ensemble import GradientBoostingClassifier\n",
    "gb=GradientBoostingClassifier(random_state=0)\n",
    "gb.fit(xv_train , y_train)"
   ]
  },
  {
   "cell_type": "code",
   "execution_count": null,
   "id": "1364974d-b85e-4ec3-b15d-29b807832d11",
   "metadata": {},
   "outputs": [],
   "source": [
    "pred_gb = gb.predict(xv_test)"
   ]
  },
  {
   "cell_type": "code",
   "execution_count": null,
   "id": "47d48bc7-8b1a-4f77-b94a-dfcfed6ea4b1",
   "metadata": {},
   "outputs": [],
   "source": [
    "print(gb.score(xv_test,y_test))\n",
    "print('\\n')"
   ]
  },
  {
   "cell_type": "code",
   "execution_count": null,
   "id": "0a63708a-c9ba-4b39-b0e7-d5e1ae702eb7",
   "metadata": {},
   "outputs": [],
   "source": [
    "print(classification_report(y_test , pred_gb))\n",
    "print('\\n')"
   ]
  },
  {
   "cell_type": "code",
   "execution_count": null,
   "id": "c8d3727e-cad3-4849-ab84-52e6da6c5a9c",
   "metadata": {},
   "outputs": [],
   "source": [
    "from sklearn.ensemble import RandomForestClassifier\n",
    "rf = RandomForestClassifier(random_state = 0)\n",
    "rf.fit(xv_train , y_train)"
   ]
  },
  {
   "cell_type": "code",
   "execution_count": null,
   "id": "6348d6a5-0c2c-4c44-b0f1-18d94ed96fa8",
   "metadata": {},
   "outputs": [],
   "source": [
    "pred_rf = rf.predict(xv_test)"
   ]
  },
  {
   "cell_type": "code",
   "execution_count": null,
   "id": "def366bf-6d53-4c0f-b107-52d5fc1c3de2",
   "metadata": {},
   "outputs": [],
   "source": [
    "print(rf.score(xv_test,y_test))\n",
    "print('\\n')"
   ]
  },
  {
   "cell_type": "code",
   "execution_count": null,
   "id": "76418466-9447-4fed-bbca-cb7be71e8a1f",
   "metadata": {},
   "outputs": [],
   "source": [
    "print(classification_report(y_test , pred_rf))\n",
    "print('\\n')"
   ]
  },
  {
   "cell_type": "code",
   "execution_count": null,
   "id": "fae4e494-7497-4290-8960-82acb6fa94f8",
   "metadata": {},
   "outputs": [],
   "source": [
    "def output_lable(n):\n",
    "    if n==0:\n",
    "        return \"Fake News\"\n",
    "    elif n==1:\n",
    "        return \"Real News\"\n",
    "\n",
    "def manual_testing(news):\n",
    "    testing_news = {\"text\":[news]}\n",
    "    new_def_test = pd.DataFrame(testing_news)\n",
    "    new_def_test['text'] = new_def_test[\"text\"].apply(wordopt)\n",
    "    new_x_test = new_def_test[\"text\"]\n",
    "    new_xv_test = vectorization.transform(new_x_test)\n",
    "    pred_lr = lr.predict(new_xv_test)\n",
    "    pred_dt = dt.predict(new_xv_test)\n",
    "    pred_gb = gb.predict(new_xv_test)\n",
    "    pred_rf = rf.predict(new_xv_test)\n",
    "\n",
    "    return print(\"\\n\\nLR Prediction:{} \\nDT Prediction: {} \\nGBC Prediction: {} \\nRF Prediction: {}\".format(output_lable(pred_lr[0]),output_lable(pred_dt[0]),output_lable(pred_gb[0]),output_lable(pred_rf[0])))"
   ]
  },
  {
   "cell_type": "code",
   "execution_count": null,
   "id": "0d00cd22-db49-49b0-872d-932db7f22f28",
   "metadata": {},
   "outputs": [],
   "source": [
    "news = str(input())\n",
    "manual_testing(news)"
   ]
  },
  {
   "cell_type": "code",
   "execution_count": null,
   "id": "ecc4108f-f1c2-4672-81cc-31130868bd20",
   "metadata": {},
   "outputs": [],
   "source": []
  }
 ],
 "metadata": {
  "kernelspec": {
   "display_name": "Python 3 (ipykernel)",
   "language": "python",
   "name": "python3"
  },
  "language_info": {
   "codemirror_mode": {
    "name": "ipython",
    "version": 3
   },
   "file_extension": ".py",
   "mimetype": "text/x-python",
   "name": "python",
   "nbconvert_exporter": "python",
   "pygments_lexer": "ipython3",
   "version": "3.11.7"
  }
 },
 "nbformat": 4,
 "nbformat_minor": 5
}
